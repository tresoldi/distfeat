{
 "cells": [
  {
   "cell_type": "markdown",
   "metadata": {},
   "source": [
    "# Quick Start Guide\n",
    "\n",
    "Get started with distfeat in 5 minutes. This guide covers the essential functions you'll use most often."
   ]
  },
  {
   "cell_type": "markdown",
   "metadata": {},
   "source": [
    "## Installation\n",
    "\n",
    "```bash\n",
    "pip install distfeat\n",
    "```"
   ]
  },
  {
   "cell_type": "markdown",
   "metadata": {},
   "source": [
    "## Basic Usage"
   ]
  },
  {
   "cell_type": "code",
   "execution_count": null,
   "metadata": {},
   "outputs": [],
   "source": [
    "# Import the main functions\n",
    "from distfeat import (\n",
    "    phoneme_to_features,\n",
    "    calculate_distance,\n",
    "    build_distance_matrix,\n",
    "    normalize_ipa\n",
    ")"
   ]
  },
  {
   "cell_type": "markdown",
   "metadata": {},
   "source": [
    "### 1. Get Features for a Phoneme"
   ]
  },
  {
   "cell_type": "code",
   "execution_count": null,
   "metadata": {},
   "outputs": [],
   "source": [
    "# Get features for the phoneme [p]\n",
    "features = phoneme_to_features('p')\n",
    "\n",
    "# Display some key features\n",
    "key_features = ['consonantal', 'voice', 'labial', 'continuant', 'nasal']\n",
    "for feature in key_features:\n",
    "    value = features.get(feature, 'N/A')\n",
    "    print(f\"{feature:15} = {value}\")"
   ]
  },
  {
   "cell_type": "markdown",
   "metadata": {},
   "source": [
    "### 2. Calculate Distance Between Phonemes"
   ]
  },
  {
   "cell_type": "code",
   "execution_count": null,
   "metadata": {},
   "outputs": [],
   "source": [
    "# Compare similar sounds (voicing difference)\n",
    "dist_voicing = calculate_distance('p', 'b')\n",
    "print(f\"Distance [p] - [b]: {dist_voicing:.3f}\")\n",
    "\n",
    "# Compare different places of articulation  \n",
    "dist_place = calculate_distance('p', 't')\n",
    "print(f\"Distance [p] - [t]: {dist_place:.3f}\")\n",
    "\n",
    "# Compare very different sounds\n",
    "dist_different = calculate_distance('p', 'a')\n",
    "print(f\"Distance [p] - [a]: {dist_different:.3f}\")"
   ]
  },
  {
   "cell_type": "markdown",
   "metadata": {},
   "source": [
    "### 3. Build a Distance Matrix"
   ]
  },
  {
   "cell_type": "code",
   "execution_count": null,
   "metadata": {},
   "outputs": [],
   "source": [
    "import numpy as np\n",
    "\n",
    "# Define phonemes of interest\n",
    "phonemes = ['p', 'b', 't', 'd', 'k', 'g']\n",
    "\n",
    "# Build distance matrix\n",
    "matrix, labels = build_distance_matrix(phonemes)\n",
    "\n",
    "# Display as formatted table\n",
    "print(\"Distance Matrix:\")\n",
    "print(\"     \", end=\"\")\n",
    "for label in labels:\n",
    "    print(f\"{label:>6}\", end=\"\")\n",
    "print()\n",
    "\n",
    "for i, label in enumerate(labels):\n",
    "    print(f\"{label:>5}\", end=\"\")\n",
    "    for j in range(len(labels)):\n",
    "        print(f\"{matrix[i,j]:6.3f}\", end=\"\")\n",
    "    print()"
   ]
  },
  {
   "cell_type": "markdown",
   "metadata": {},
   "source": [
    "### 4. Normalize IPA Text"
   ]
  },
  {
   "cell_type": "code",
   "execution_count": null,
   "metadata": {},
   "outputs": [],
   "source": [
    "# Handle various IPA input formats\n",
    "texts = [\n",
    "    \"pʰæ̃n\",        # Diacritics\n",
    "    \"t:est\",       # ASCII length mark\n",
    "    \"STRESSED\",    # Uppercase\n",
    "    \"t̪ʰin\",        # Complex diacritics\n",
    "]\n",
    "\n",
    "print(\"IPA Normalization:\")\n",
    "for text in texts:\n",
    "    normalized = normalize_ipa(text)\n",
    "    print(f\"  {text:12} → {normalized}\")"
   ]
  },
  {
   "cell_type": "markdown",
   "metadata": {},
   "source": [
    "## Common Use Cases"
   ]
  },
  {
   "cell_type": "markdown",
   "metadata": {},
   "source": [
    "### Compare Two Words"
   ]
  },
  {
   "cell_type": "code",
   "execution_count": null,
   "metadata": {},
   "outputs": [],
   "source": [
    "from distfeat.alignment import align_sequences\n",
    "\n",
    "# English \"dog\" vs German \"Hund\" \n",
    "word1 = ['d', 'ɔ', 'g']\n",
    "word2 = ['h', 'ʊ', 'n', 't']\n",
    "\n",
    "result = align_sequences(word1, word2)\n",
    "print(\"Alignment:\")\n",
    "print(f\"  English: {' '.join(result.seq1_aligned)}\")\n",
    "print(f\"  German:  {' '.join(result.seq2_aligned)}\")\n",
    "print(f\"  Distance: {result.normalized_distance:.3f}\")"
   ]
  },
  {
   "cell_type": "markdown",
   "metadata": {},
   "source": [
    "### Find Most Similar Sounds"
   ]
  },
  {
   "cell_type": "code",
   "execution_count": null,
   "metadata": {},
   "outputs": [],
   "source": [
    "# Find sounds similar to [b]\n",
    "target = 'b'\n",
    "candidates = ['p', 'm', 'd', 'v', 'g', 'w', 'f', 't', 'n']\n",
    "\n",
    "distances = []\n",
    "for phoneme in candidates:\n",
    "    dist = calculate_distance(target, phoneme)\n",
    "    distances.append((phoneme, dist))\n",
    "\n",
    "# Sort by distance\n",
    "distances.sort(key=lambda x: x[1])\n",
    "\n",
    "print(f\"Sounds most similar to [{target}]:\")\n",
    "for phoneme, dist in distances[:5]:\n",
    "    print(f\"  [{phoneme}]: {dist:.3f}\")"
   ]
  },
  {
   "cell_type": "markdown",
   "metadata": {},
   "source": [
    "### Use Different Distance Metrics"
   ]
  },
  {
   "cell_type": "code",
   "execution_count": null,
   "metadata": {},
   "outputs": [],
   "source": [
    "# Compare metrics for the same phoneme pair\n",
    "p1, p2 = 'k', 'g'\n",
    "metrics = ['hamming', 'jaccard', 'euclidean', 'cosine', 'manhattan']\n",
    "\n",
    "print(f\"Distances between [{p1}] and [{p2}]:\")\n",
    "for metric in metrics:\n",
    "    dist = calculate_distance(p1, p2, method=metric)\n",
    "    print(f\"  {metric:10}: {dist:.3f}\")"
   ]
  },
  {
   "cell_type": "markdown",
   "metadata": {},
   "source": [
    "## Configuration"
   ]
  },
  {
   "cell_type": "code",
   "execution_count": null,
   "metadata": {},
   "outputs": [],
   "source": [
    "from distfeat import get_config, set_config\n",
    "\n",
    "# View current configuration\n",
    "config = get_config()\n",
    "print(\"Current configuration:\")\n",
    "for key, value in config.items():\n",
    "    print(f\"  {key}: {value}\")\n",
    "\n",
    "# Change default behavior\n",
    "set_config('default_distance_method', 'jaccard')\n",
    "set_config('on_error', 'raise')  # Strict error handling"
   ]
  },
  {
   "cell_type": "markdown",
   "metadata": {},
   "source": [
    "## Export Results"
   ]
  },
  {
   "cell_type": "code",
   "execution_count": null,
   "metadata": {},
   "outputs": [],
   "source": [
    "from distfeat import save_distance_matrix\n",
    "\n",
    "# Build a matrix\n",
    "vowels = ['i', 'e', 'a', 'o', 'u']\n",
    "matrix, labels = build_distance_matrix(vowels)\n",
    "\n",
    "# Save in different formats\n",
    "save_distance_matrix(matrix, labels, 'vowel_distances.tsv', format='tsv')\n",
    "save_distance_matrix(matrix, labels, 'vowel_distances.json', format='json')\n",
    "\n",
    "print(\"Distance matrices saved!\")"
   ]
  },
  {
   "cell_type": "markdown",
   "metadata": {},
   "source": [
    "## What's Next?\n",
    "\n",
    "Now that you understand the basics:\n",
    "\n",
    "- **Learn more**: Continue with the [detailed tutorials](01_basic_distances.ipynb)\n",
    "- **Explore theory**: Read about the [theoretical foundation](../chapters/02_theoretical_foundation.ipynb)\n",
    "- **See applications**: Check out the [case studies](../case_studies/indo_european.ipynb)\n",
    "- **Reference**: Browse the [API documentation](../api/features.ipynb)\n",
    "\n",
    "## Getting Help\n",
    "\n",
    "- **Documentation**: [https://distfeat.readthedocs.io](https://distfeat.readthedocs.io)\n",
    "- **GitHub Issues**: [https://github.com/your-org/distfeat/issues](https://github.com/your-org/distfeat/issues)\n",
    "- **Examples**: See the `examples/` directory in the repository"
   ]
  }
 ],
 "metadata": {
  "kernelspec": {
   "display_name": "Python 3",
   "language": "python",
   "name": "python3"
  },
  "language_info": {
   "codemirror_mode": {
    "name": "ipython",
    "version": 3
   },
   "file_extension": ".py",
   "mimetype": "text/x-python",
   "name": "python",
   "nbconvert_exporter": "python",
   "pygments_lexer": "ipython3",
   "version": "3.8.0"
  }
 },
 "nbformat": 4,
 "nbformat_minor": 4
}